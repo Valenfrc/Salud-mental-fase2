{
    "cells": [
        {
            "cell_type": "markdown",
            "metadata": {},
            "source": [
                "# Explore here"
            ]
        },
        {
            "cell_type": "code",
            "execution_count": 2,
            "metadata": {},
            "outputs": [],
            "source": [
                "#Paso 1: Definición del problema\n",
                "#🎯 Problema de negocio\n",
                "#La depresión es uno de los trastornos mentales más prevalentes a nivel mundial. Se estima que millones de personas la padecen, y muchas de ellas no reciben el tratamiento adecuado debido a estigmas sociales, falta de diagnóstico o acceso limitado a servicios de salud mental. La detección temprana es esencial para intervenir oportunamente y prevenir consecuencias graves como el deterioro en la calidad de vida o incluso el suicidio.\n",
                "\n",
                "#El objetivo de este proyecto es desarrollar un sistema de predicción que, basándose en información sociodemográfica, historial médico y hábitos de vida de los individuos, sea capaz de detectar indicios de depresión. Esto permitiría generar herramientas de apoyo para psicólogos, profesionales de salud, instituciones educativas o incluso en ambientes laborales, facilitando intervenciones tempranas y preventivas.\n",
                "\n",
                "#🤖 Problema de Machine Learning\n",
                "#Se plantea un problema de clasificación binaria, donde a partir de variables como la edad, estado civil, nivel educativo, hábitos alimenticios, patrones de sueño, historial médico, entre otras, se busca predecir si una persona se encuentra en un estado depresivo (1) o no (0).\n",
                "\n"
            ]
        },
        {
            "cell_type": "code",
            "execution_count": null,
            "metadata": {},
            "outputs": [],
            "source": [
                "#Paso 2: Obtencion y carga del conjunto de datos"
            ]
        },
        {
            "cell_type": "code",
            "execution_count": 3,
            "metadata": {},
            "outputs": [
                {
                    "name": "stdout",
                    "output_type": "stream",
                    "text": [
                        "               Name  Age Marital Status    Education Level  \\\n",
                        "0  Christine Barker   31        Married  Bachelor's Degree   \n",
                        "1  Jacqueline Lewis   55        Married        High School   \n",
                        "2    Shannon Church   78        Widowed    Master's Degree   \n",
                        "3    Charles Jordan   58       Divorced    Master's Degree   \n",
                        "4      Michael Rich   18         Single        High School   \n",
                        "\n",
                        "   Number of Children Smoking Status Physical Activity Level  \\\n",
                        "0                   2     Non-smoker                  Active   \n",
                        "1                   1     Non-smoker               Sedentary   \n",
                        "2                   1     Non-smoker               Sedentary   \n",
                        "3                   3     Non-smoker                Moderate   \n",
                        "4                   0     Non-smoker               Sedentary   \n",
                        "\n",
                        "  Employment Status     Income Alcohol Consumption Dietary Habits  \\\n",
                        "0        Unemployed   26265.67            Moderate       Moderate   \n",
                        "1          Employed   42710.36                High      Unhealthy   \n",
                        "2          Employed  125332.79                 Low      Unhealthy   \n",
                        "3        Unemployed    9992.78            Moderate       Moderate   \n",
                        "4        Unemployed    8595.08                 Low       Moderate   \n",
                        "\n",
                        "  Sleep Patterns History of Mental Illness History of Substance Abuse  \\\n",
                        "0           Fair                       Yes                         No   \n",
                        "1           Fair                       Yes                         No   \n",
                        "2           Good                        No                         No   \n",
                        "3           Poor                        No                         No   \n",
                        "4           Fair                       Yes                         No   \n",
                        "\n",
                        "  Family History of Depression Chronic Medical Conditions  \n",
                        "0                          Yes                        Yes  \n",
                        "1                           No                        Yes  \n",
                        "2                          Yes                         No  \n",
                        "3                           No                         No  \n",
                        "4                          Yes                        Yes  \n"
                    ]
                }
            ],
            "source": [
                "import pandas as pd\n",
                "\n",
                "df = pd.read_csv('../data/raw/depression_data.csv')\n",
                "print(df.head())\n"
            ]
        },
        {
            "cell_type": "code",
            "execution_count": null,
            "metadata": {},
            "outputs": [],
            "source": [
                "#Nota sobre la variable objetivo:\n",
                "#Dado que el dataset original no incluía una columna explícita que indicara si una persona se encuentra en estado depresivo,\n",
                "# se generó una variable sintética Depressed basada en criterios clínicamente reconocidos como factores de riesgo de depresión,\n",
                "# tales como: historial de enfermedad mental, trastornos del sueño, abuso de sustancias, antecedentes familiares, entre otros.\n",
                "# Esta aproximación se utilizó exclusivamente para fines académicos, con el objetivo de demostrar el proceso completo de Machine\n",
                "# Learning aplicado a datos de salud mental.\n",
                "\n",
                "#Depressed = 1 → indica un caso considerado con alto riesgo de depresión.\n",
                "#Depressed = 0 → indica un caso considerado sin riesgo significativo de depresión.\n",
                "def calcular_depresion(row):\n",
                "    factores = 0\n",
                "    if row['History of Mental Illness'] == 'Yes':\n",
                "        factores += 1\n",
                "    if row['History of Substance Abuse'] == 'Yes':\n",
                "        factores += 1\n",
                "    if row['Family History of Depression'] == 'Yes':\n",
                "        factores += 1\n",
                "    if row['Sleep Patterns'] == 'Poor':\n",
                "        factores += 1\n",
                "    if row['Chronic Medical Conditions'] == 'Yes':\n",
                "        factores += 1\n",
                "    if row['Physical Activity Level'] == 'Sedentary':\n",
                "        factores += 1\n",
                "    if row['Alcohol Consumption'] == 'High':\n",
                "        factores += 1\n",
                "    return 1 if factores >= 2 else 0\n",
                "\n",
                "df['Depressed'] = df.apply(calcular_depresion, axis=1)\n"
            ]
        },
        {
            "cell_type": "code",
            "execution_count": null,
            "metadata": {},
            "outputs": [],
            "source": [
                "#Paso 3: Almacenar la información"
            ]
        },
        {
            "cell_type": "code",
            "execution_count": 5,
            "metadata": {},
            "outputs": [
                {
                    "name": "stdout",
                    "output_type": "stream",
                    "text": [
                        "Datos cargados correctamente en la base de datos 'mental_health.db'\n"
                    ]
                }
            ],
            "source": [
                "import sqlite3\n",
                "import pandas as pd\n",
                "\n",
                "#Conectar df a SQL\n",
                "conn = sqlite3.connect(\"depression_data.db\")\n",
                "\n",
                "# Almacenar los datos en la base de datos SQLite en una tabla llamada 'health_data'\n",
                "df.to_sql('health_data', conn, if_exists='replace', index=False)\n",
                "print(\"Datos cargados correctamente en la base de datos 'mental_health.db'\")\n"
            ]
        },
        {
            "cell_type": "code",
            "execution_count": 7,
            "metadata": {},
            "outputs": [
                {
                    "name": "stdout",
                    "output_type": "stream",
                    "text": [
                        "▶ Consulta 1: Primeras 5 filas\n",
                        "               Name  Age Marital Status    Education Level  \\\n",
                        "0  Christine Barker   31        Married  Bachelor's Degree   \n",
                        "1  Jacqueline Lewis   55        Married        High School   \n",
                        "2    Shannon Church   78        Widowed    Master's Degree   \n",
                        "3    Charles Jordan   58       Divorced    Master's Degree   \n",
                        "4      Michael Rich   18         Single        High School   \n",
                        "\n",
                        "   Number of Children Smoking Status Physical Activity Level  \\\n",
                        "0                   2     Non-smoker                  Active   \n",
                        "1                   1     Non-smoker               Sedentary   \n",
                        "2                   1     Non-smoker               Sedentary   \n",
                        "3                   3     Non-smoker                Moderate   \n",
                        "4                   0     Non-smoker               Sedentary   \n",
                        "\n",
                        "  Employment Status     Income Alcohol Consumption Dietary Habits  \\\n",
                        "0        Unemployed   26265.67            Moderate       Moderate   \n",
                        "1          Employed   42710.36                High      Unhealthy   \n",
                        "2          Employed  125332.79                 Low      Unhealthy   \n",
                        "3        Unemployed    9992.78            Moderate       Moderate   \n",
                        "4        Unemployed    8595.08                 Low       Moderate   \n",
                        "\n",
                        "  Sleep Patterns History of Mental Illness History of Substance Abuse  \\\n",
                        "0           Fair                       Yes                         No   \n",
                        "1           Fair                       Yes                         No   \n",
                        "2           Good                        No                         No   \n",
                        "3           Poor                        No                         No   \n",
                        "4           Fair                       Yes                         No   \n",
                        "\n",
                        "  Family History of Depression Chronic Medical Conditions  Depressed  \n",
                        "0                          Yes                        Yes          1  \n",
                        "1                           No                        Yes          1  \n",
                        "2                          Yes                         No          1  \n",
                        "3                           No                         No          0  \n",
                        "4                          Yes                        Yes          1   \n",
                        "\n"
                    ]
                }
            ],
            "source": [
                "# 1: Ver las primeras 5 filas\n",
                "query1 = \"SELECT * FROM health_data LIMIT 5\"\n",
                "print(\"▶ Consulta 1: Primeras 5 filas\")\n",
                "print(pd.read_sql(query1, conn), \"\\n\")\n",
                "\n"
            ]
        },
        {
            "cell_type": "code",
            "execution_count": 8,
            "metadata": {},
            "outputs": [
                {
                    "name": "stdout",
                    "output_type": "stream",
                    "text": [
                        "▶ Consulta 2: Conteo deprimidos vs no\n",
                        "   Depressed   Total\n",
                        "0          0  128135\n",
                        "1          1  285633 \n",
                        "\n"
                    ]
                }
            ],
            "source": [
                "# 2: Contar personas deprimidas (1) vs no deprimidas (0)\n",
                "query2 = \"SELECT Depressed, COUNT(*) as Total FROM health_data GROUP BY Depressed\"\n",
                "print(\"▶ Consulta 2: Conteo deprimidos vs no\")\n",
                "print(pd.read_sql(query2, conn), \"\\n\")\n",
                "\n"
            ]
        },
        {
            "cell_type": "code",
            "execution_count": 9,
            "metadata": {},
            "outputs": [
                {
                    "name": "stdout",
                    "output_type": "stream",
                    "text": [
                        "▶ Consulta 3: Conteo por nivel de actividad física\n",
                        "  Physical Activity Level   Total\n",
                        "0                  Active   78905\n",
                        "1                Moderate  158013\n",
                        "2               Sedentary  176850 \n",
                        "\n"
                    ]
                }
            ],
            "source": [
                "# Consulta 3: Ver distribución por nivel de actividad física\n",
                "query3 = \"SELECT [Physical Activity Level], COUNT(*) as Total FROM health_data GROUP BY [Physical Activity Level]\"\n",
                "print(\"▶ Consulta 3: Conteo por nivel de actividad física\")\n",
                "print(pd.read_sql(query3, conn), \"\\n\")"
            ]
        },
        {
            "cell_type": "code",
            "execution_count": 10,
            "metadata": {},
            "outputs": [
                {
                    "name": "stdout",
                    "output_type": "stream",
                    "text": [
                        "▶ Consulta 4: Conteo por patrón de sueño\n",
                        "  Sleep Patterns   Total\n",
                        "0           Fair  196789\n",
                        "1           Good   87397\n",
                        "2           Poor  129582 \n",
                        "\n"
                    ]
                }
            ],
            "source": [
                "query4 = \"SELECT [Sleep Patterns], COUNT(*) as Total FROM health_data GROUP BY [Sleep Patterns]\"\n",
                "print(\"▶ Consulta 4: Conteo por patrón de sueño\")\n",
                "print(pd.read_sql(query4, conn), \"\\n\")"
            ]
        },
        {
            "cell_type": "code",
            "execution_count": 11,
            "metadata": {},
            "outputs": [
                {
                    "name": "stdout",
                    "output_type": "stream",
                    "text": [
                        "▶ Consulta 5: Porcentaje de deprimidos por consumo de alcohol\n",
                        "  Alcohol Consumption  Porcentaje_Deprimidos\n",
                        "0                High                   0.94\n",
                        "1                 Low                   0.61\n",
                        "2            Moderate                   0.61 \n",
                        "\n"
                    ]
                }
            ],
            "source": [
                "# Consulta 5: Porcentaje promedio de depresión por consumo de alcohol\n",
                "query5 = \"\"\"\n",
                "    SELECT [Alcohol Consumption], ROUND(AVG(Depressed), 2) as Porcentaje_Deprimidos\n",
                "    FROM health_data\n",
                "    GROUP BY [Alcohol Consumption]\n",
                "\"\"\"\n",
                "print(\"▶ Consulta 5: Porcentaje de deprimidos por consumo de alcohol\")\n",
                "print(pd.read_sql(query5, conn), \"\\n\")\n",
                "\n",
                "# Cerrar conexión\n",
                "conn.close()"
            ]
        },
        {
            "cell_type": "code",
            "execution_count": 12,
            "metadata": {},
            "outputs": [
                {
                    "data": {
                        "text/html": [
                            "<div>\n",
                            "<style scoped>\n",
                            "    .dataframe tbody tr th:only-of-type {\n",
                            "        vertical-align: middle;\n",
                            "    }\n",
                            "\n",
                            "    .dataframe tbody tr th {\n",
                            "        vertical-align: top;\n",
                            "    }\n",
                            "\n",
                            "    .dataframe thead th {\n",
                            "        text-align: right;\n",
                            "    }\n",
                            "</style>\n",
                            "<table border=\"1\" class=\"dataframe\">\n",
                            "  <thead>\n",
                            "    <tr style=\"text-align: right;\">\n",
                            "      <th></th>\n",
                            "      <th>Name</th>\n",
                            "      <th>Age</th>\n",
                            "      <th>Marital Status</th>\n",
                            "      <th>Education Level</th>\n",
                            "      <th>Number of Children</th>\n",
                            "      <th>Smoking Status</th>\n",
                            "      <th>Physical Activity Level</th>\n",
                            "      <th>Employment Status</th>\n",
                            "      <th>Income</th>\n",
                            "      <th>Alcohol Consumption</th>\n",
                            "      <th>Dietary Habits</th>\n",
                            "      <th>Sleep Patterns</th>\n",
                            "      <th>History of Mental Illness</th>\n",
                            "      <th>History of Substance Abuse</th>\n",
                            "      <th>Family History of Depression</th>\n",
                            "      <th>Chronic Medical Conditions</th>\n",
                            "      <th>Depressed</th>\n",
                            "    </tr>\n",
                            "  </thead>\n",
                            "  <tbody>\n",
                            "    <tr>\n",
                            "      <th>0</th>\n",
                            "      <td>Christine Barker</td>\n",
                            "      <td>31</td>\n",
                            "      <td>Married</td>\n",
                            "      <td>Bachelor's Degree</td>\n",
                            "      <td>2</td>\n",
                            "      <td>Non-smoker</td>\n",
                            "      <td>Active</td>\n",
                            "      <td>Unemployed</td>\n",
                            "      <td>26265.67</td>\n",
                            "      <td>Moderate</td>\n",
                            "      <td>Moderate</td>\n",
                            "      <td>Fair</td>\n",
                            "      <td>Yes</td>\n",
                            "      <td>No</td>\n",
                            "      <td>Yes</td>\n",
                            "      <td>Yes</td>\n",
                            "      <td>1</td>\n",
                            "    </tr>\n",
                            "    <tr>\n",
                            "      <th>1</th>\n",
                            "      <td>Jacqueline Lewis</td>\n",
                            "      <td>55</td>\n",
                            "      <td>Married</td>\n",
                            "      <td>High School</td>\n",
                            "      <td>1</td>\n",
                            "      <td>Non-smoker</td>\n",
                            "      <td>Sedentary</td>\n",
                            "      <td>Employed</td>\n",
                            "      <td>42710.36</td>\n",
                            "      <td>High</td>\n",
                            "      <td>Unhealthy</td>\n",
                            "      <td>Fair</td>\n",
                            "      <td>Yes</td>\n",
                            "      <td>No</td>\n",
                            "      <td>No</td>\n",
                            "      <td>Yes</td>\n",
                            "      <td>1</td>\n",
                            "    </tr>\n",
                            "    <tr>\n",
                            "      <th>2</th>\n",
                            "      <td>Shannon Church</td>\n",
                            "      <td>78</td>\n",
                            "      <td>Widowed</td>\n",
                            "      <td>Master's Degree</td>\n",
                            "      <td>1</td>\n",
                            "      <td>Non-smoker</td>\n",
                            "      <td>Sedentary</td>\n",
                            "      <td>Employed</td>\n",
                            "      <td>125332.79</td>\n",
                            "      <td>Low</td>\n",
                            "      <td>Unhealthy</td>\n",
                            "      <td>Good</td>\n",
                            "      <td>No</td>\n",
                            "      <td>No</td>\n",
                            "      <td>Yes</td>\n",
                            "      <td>No</td>\n",
                            "      <td>1</td>\n",
                            "    </tr>\n",
                            "    <tr>\n",
                            "      <th>3</th>\n",
                            "      <td>Charles Jordan</td>\n",
                            "      <td>58</td>\n",
                            "      <td>Divorced</td>\n",
                            "      <td>Master's Degree</td>\n",
                            "      <td>3</td>\n",
                            "      <td>Non-smoker</td>\n",
                            "      <td>Moderate</td>\n",
                            "      <td>Unemployed</td>\n",
                            "      <td>9992.78</td>\n",
                            "      <td>Moderate</td>\n",
                            "      <td>Moderate</td>\n",
                            "      <td>Poor</td>\n",
                            "      <td>No</td>\n",
                            "      <td>No</td>\n",
                            "      <td>No</td>\n",
                            "      <td>No</td>\n",
                            "      <td>0</td>\n",
                            "    </tr>\n",
                            "    <tr>\n",
                            "      <th>4</th>\n",
                            "      <td>Michael Rich</td>\n",
                            "      <td>18</td>\n",
                            "      <td>Single</td>\n",
                            "      <td>High School</td>\n",
                            "      <td>0</td>\n",
                            "      <td>Non-smoker</td>\n",
                            "      <td>Sedentary</td>\n",
                            "      <td>Unemployed</td>\n",
                            "      <td>8595.08</td>\n",
                            "      <td>Low</td>\n",
                            "      <td>Moderate</td>\n",
                            "      <td>Fair</td>\n",
                            "      <td>Yes</td>\n",
                            "      <td>No</td>\n",
                            "      <td>Yes</td>\n",
                            "      <td>Yes</td>\n",
                            "      <td>1</td>\n",
                            "    </tr>\n",
                            "  </tbody>\n",
                            "</table>\n",
                            "</div>"
                        ],
                        "text/plain": [
                            "               Name  Age Marital Status    Education Level  \\\n",
                            "0  Christine Barker   31        Married  Bachelor's Degree   \n",
                            "1  Jacqueline Lewis   55        Married        High School   \n",
                            "2    Shannon Church   78        Widowed    Master's Degree   \n",
                            "3    Charles Jordan   58       Divorced    Master's Degree   \n",
                            "4      Michael Rich   18         Single        High School   \n",
                            "\n",
                            "   Number of Children Smoking Status Physical Activity Level  \\\n",
                            "0                   2     Non-smoker                  Active   \n",
                            "1                   1     Non-smoker               Sedentary   \n",
                            "2                   1     Non-smoker               Sedentary   \n",
                            "3                   3     Non-smoker                Moderate   \n",
                            "4                   0     Non-smoker               Sedentary   \n",
                            "\n",
                            "  Employment Status     Income Alcohol Consumption Dietary Habits  \\\n",
                            "0        Unemployed   26265.67            Moderate       Moderate   \n",
                            "1          Employed   42710.36                High      Unhealthy   \n",
                            "2          Employed  125332.79                 Low      Unhealthy   \n",
                            "3        Unemployed    9992.78            Moderate       Moderate   \n",
                            "4        Unemployed    8595.08                 Low       Moderate   \n",
                            "\n",
                            "  Sleep Patterns History of Mental Illness History of Substance Abuse  \\\n",
                            "0           Fair                       Yes                         No   \n",
                            "1           Fair                       Yes                         No   \n",
                            "2           Good                        No                         No   \n",
                            "3           Poor                        No                         No   \n",
                            "4           Fair                       Yes                         No   \n",
                            "\n",
                            "  Family History of Depression Chronic Medical Conditions  Depressed  \n",
                            "0                          Yes                        Yes          1  \n",
                            "1                           No                        Yes          1  \n",
                            "2                          Yes                         No          1  \n",
                            "3                           No                         No          0  \n",
                            "4                          Yes                        Yes          1  "
                        ]
                    },
                    "execution_count": 12,
                    "metadata": {},
                    "output_type": "execute_result"
                }
            ],
            "source": [
                "df.head()"
            ]
        },
        {
            "cell_type": "code",
            "execution_count": 13,
            "metadata": {},
            "outputs": [],
            "source": [
                "#No aporta nada Name\n",
                "df = df.drop(columns=['Name'])"
            ]
        },
        {
            "cell_type": "code",
            "execution_count": null,
            "metadata": {},
            "outputs": [],
            "source": [
                "#Paso 4: Realiza un análisis descriptivo"
            ]
        },
        {
            "cell_type": "code",
            "execution_count": 14,
            "metadata": {},
            "outputs": [
                {
                    "data": {
                        "text/html": [
                            "<div>\n",
                            "<style scoped>\n",
                            "    .dataframe tbody tr th:only-of-type {\n",
                            "        vertical-align: middle;\n",
                            "    }\n",
                            "\n",
                            "    .dataframe tbody tr th {\n",
                            "        vertical-align: top;\n",
                            "    }\n",
                            "\n",
                            "    .dataframe thead th {\n",
                            "        text-align: right;\n",
                            "    }\n",
                            "</style>\n",
                            "<table border=\"1\" class=\"dataframe\">\n",
                            "  <thead>\n",
                            "    <tr style=\"text-align: right;\">\n",
                            "      <th></th>\n",
                            "      <th>Age</th>\n",
                            "      <th>Number of Children</th>\n",
                            "      <th>Income</th>\n",
                            "      <th>Depressed</th>\n",
                            "    </tr>\n",
                            "  </thead>\n",
                            "  <tbody>\n",
                            "    <tr>\n",
                            "      <th>count</th>\n",
                            "      <td>413768.000000</td>\n",
                            "      <td>413768.000000</td>\n",
                            "      <td>413768.000000</td>\n",
                            "      <td>413768.000000</td>\n",
                            "    </tr>\n",
                            "    <tr>\n",
                            "      <th>mean</th>\n",
                            "      <td>49.000713</td>\n",
                            "      <td>1.298972</td>\n",
                            "      <td>50661.707971</td>\n",
                            "      <td>0.690322</td>\n",
                            "    </tr>\n",
                            "    <tr>\n",
                            "      <th>std</th>\n",
                            "      <td>18.158759</td>\n",
                            "      <td>1.237054</td>\n",
                            "      <td>40624.100565</td>\n",
                            "      <td>0.462362</td>\n",
                            "    </tr>\n",
                            "    <tr>\n",
                            "      <th>min</th>\n",
                            "      <td>18.000000</td>\n",
                            "      <td>0.000000</td>\n",
                            "      <td>0.410000</td>\n",
                            "      <td>0.000000</td>\n",
                            "    </tr>\n",
                            "    <tr>\n",
                            "      <th>25%</th>\n",
                            "      <td>33.000000</td>\n",
                            "      <td>0.000000</td>\n",
                            "      <td>21001.030000</td>\n",
                            "      <td>0.000000</td>\n",
                            "    </tr>\n",
                            "    <tr>\n",
                            "      <th>50%</th>\n",
                            "      <td>49.000000</td>\n",
                            "      <td>1.000000</td>\n",
                            "      <td>37520.135000</td>\n",
                            "      <td>1.000000</td>\n",
                            "    </tr>\n",
                            "    <tr>\n",
                            "      <th>75%</th>\n",
                            "      <td>65.000000</td>\n",
                            "      <td>2.000000</td>\n",
                            "      <td>76616.300000</td>\n",
                            "      <td>1.000000</td>\n",
                            "    </tr>\n",
                            "    <tr>\n",
                            "      <th>max</th>\n",
                            "      <td>80.000000</td>\n",
                            "      <td>4.000000</td>\n",
                            "      <td>209995.220000</td>\n",
                            "      <td>1.000000</td>\n",
                            "    </tr>\n",
                            "  </tbody>\n",
                            "</table>\n",
                            "</div>"
                        ],
                        "text/plain": [
                            "                 Age  Number of Children         Income      Depressed\n",
                            "count  413768.000000       413768.000000  413768.000000  413768.000000\n",
                            "mean       49.000713            1.298972   50661.707971       0.690322\n",
                            "std        18.158759            1.237054   40624.100565       0.462362\n",
                            "min        18.000000            0.000000       0.410000       0.000000\n",
                            "25%        33.000000            0.000000   21001.030000       0.000000\n",
                            "50%        49.000000            1.000000   37520.135000       1.000000\n",
                            "75%        65.000000            2.000000   76616.300000       1.000000\n",
                            "max        80.000000            4.000000  209995.220000       1.000000"
                        ]
                    },
                    "execution_count": 14,
                    "metadata": {},
                    "output_type": "execute_result"
                }
            ],
            "source": [
                "df.describe()\n"
            ]
        },
        {
            "cell_type": "code",
            "execution_count": 15,
            "metadata": {},
            "outputs": [
                {
                    "data": {
                        "text/html": [
                            "<div>\n",
                            "<style scoped>\n",
                            "    .dataframe tbody tr th:only-of-type {\n",
                            "        vertical-align: middle;\n",
                            "    }\n",
                            "\n",
                            "    .dataframe tbody tr th {\n",
                            "        vertical-align: top;\n",
                            "    }\n",
                            "\n",
                            "    .dataframe thead th {\n",
                            "        text-align: right;\n",
                            "    }\n",
                            "</style>\n",
                            "<table border=\"1\" class=\"dataframe\">\n",
                            "  <thead>\n",
                            "    <tr style=\"text-align: right;\">\n",
                            "      <th></th>\n",
                            "      <th>Marital Status</th>\n",
                            "      <th>Education Level</th>\n",
                            "      <th>Smoking Status</th>\n",
                            "      <th>Physical Activity Level</th>\n",
                            "      <th>Employment Status</th>\n",
                            "      <th>Alcohol Consumption</th>\n",
                            "      <th>Dietary Habits</th>\n",
                            "      <th>Sleep Patterns</th>\n",
                            "      <th>History of Mental Illness</th>\n",
                            "      <th>History of Substance Abuse</th>\n",
                            "      <th>Family History of Depression</th>\n",
                            "      <th>Chronic Medical Conditions</th>\n",
                            "    </tr>\n",
                            "  </thead>\n",
                            "  <tbody>\n",
                            "    <tr>\n",
                            "      <th>count</th>\n",
                            "      <td>413768</td>\n",
                            "      <td>413768</td>\n",
                            "      <td>413768</td>\n",
                            "      <td>413768</td>\n",
                            "      <td>413768</td>\n",
                            "      <td>413768</td>\n",
                            "      <td>413768</td>\n",
                            "      <td>413768</td>\n",
                            "      <td>413768</td>\n",
                            "      <td>413768</td>\n",
                            "      <td>413768</td>\n",
                            "      <td>413768</td>\n",
                            "    </tr>\n",
                            "    <tr>\n",
                            "      <th>unique</th>\n",
                            "      <td>4</td>\n",
                            "      <td>5</td>\n",
                            "      <td>3</td>\n",
                            "      <td>3</td>\n",
                            "      <td>2</td>\n",
                            "      <td>3</td>\n",
                            "      <td>3</td>\n",
                            "      <td>3</td>\n",
                            "      <td>2</td>\n",
                            "      <td>2</td>\n",
                            "      <td>2</td>\n",
                            "      <td>2</td>\n",
                            "    </tr>\n",
                            "    <tr>\n",
                            "      <th>top</th>\n",
                            "      <td>Married</td>\n",
                            "      <td>Bachelor's Degree</td>\n",
                            "      <td>Non-smoker</td>\n",
                            "      <td>Sedentary</td>\n",
                            "      <td>Employed</td>\n",
                            "      <td>Moderate</td>\n",
                            "      <td>Unhealthy</td>\n",
                            "      <td>Fair</td>\n",
                            "      <td>No</td>\n",
                            "      <td>No</td>\n",
                            "      <td>No</td>\n",
                            "      <td>No</td>\n",
                            "    </tr>\n",
                            "    <tr>\n",
                            "      <th>freq</th>\n",
                            "      <td>240444</td>\n",
                            "      <td>124329</td>\n",
                            "      <td>247416</td>\n",
                            "      <td>176850</td>\n",
                            "      <td>265659</td>\n",
                            "      <td>173440</td>\n",
                            "      <td>170817</td>\n",
                            "      <td>196789</td>\n",
                            "      <td>287943</td>\n",
                            "      <td>284880</td>\n",
                            "      <td>302515</td>\n",
                            "      <td>277561</td>\n",
                            "    </tr>\n",
                            "  </tbody>\n",
                            "</table>\n",
                            "</div>"
                        ],
                        "text/plain": [
                            "       Marital Status    Education Level Smoking Status  \\\n",
                            "count          413768             413768         413768   \n",
                            "unique              4                  5              3   \n",
                            "top           Married  Bachelor's Degree     Non-smoker   \n",
                            "freq           240444             124329         247416   \n",
                            "\n",
                            "       Physical Activity Level Employment Status Alcohol Consumption  \\\n",
                            "count                   413768            413768              413768   \n",
                            "unique                       3                 2                   3   \n",
                            "top                  Sedentary          Employed            Moderate   \n",
                            "freq                    176850            265659              173440   \n",
                            "\n",
                            "       Dietary Habits Sleep Patterns History of Mental Illness  \\\n",
                            "count          413768         413768                    413768   \n",
                            "unique              3              3                         2   \n",
                            "top         Unhealthy           Fair                        No   \n",
                            "freq           170817         196789                    287943   \n",
                            "\n",
                            "       History of Substance Abuse Family History of Depression  \\\n",
                            "count                      413768                       413768   \n",
                            "unique                          2                            2   \n",
                            "top                            No                           No   \n",
                            "freq                       284880                       302515   \n",
                            "\n",
                            "       Chronic Medical Conditions  \n",
                            "count                      413768  \n",
                            "unique                          2  \n",
                            "top                            No  \n",
                            "freq                       277561  "
                        ]
                    },
                    "execution_count": 15,
                    "metadata": {},
                    "output_type": "execute_result"
                }
            ],
            "source": [
                "df.describe(include=['object'])"
            ]
        },
        {
            "cell_type": "code",
            "execution_count": 17,
            "metadata": {},
            "outputs": [
                {
                    "data": {
                        "text/plain": [
                            "Age                             0\n",
                            "Marital Status                  0\n",
                            "Education Level                 0\n",
                            "Number of Children              0\n",
                            "Smoking Status                  0\n",
                            "Physical Activity Level         0\n",
                            "Employment Status               0\n",
                            "Income                          0\n",
                            "Alcohol Consumption             0\n",
                            "Dietary Habits                  0\n",
                            "Sleep Patterns                  0\n",
                            "History of Mental Illness       0\n",
                            "History of Substance Abuse      0\n",
                            "Family History of Depression    0\n",
                            "Chronic Medical Conditions      0\n",
                            "Depressed                       0\n",
                            "dtype: int64"
                        ]
                    },
                    "execution_count": 17,
                    "metadata": {},
                    "output_type": "execute_result"
                }
            ],
            "source": [
                "df.isnull().sum()"
            ]
        },
        {
            "cell_type": "code",
            "execution_count": 18,
            "metadata": {},
            "outputs": [
                {
                    "name": "stdout",
                    "output_type": "stream",
                    "text": [
                        "<class 'pandas.core.frame.DataFrame'>\n",
                        "RangeIndex: 413768 entries, 0 to 413767\n",
                        "Data columns (total 16 columns):\n",
                        " #   Column                        Non-Null Count   Dtype  \n",
                        "---  ------                        --------------   -----  \n",
                        " 0   Age                           413768 non-null  int64  \n",
                        " 1   Marital Status                413768 non-null  object \n",
                        " 2   Education Level               413768 non-null  object \n",
                        " 3   Number of Children            413768 non-null  int64  \n",
                        " 4   Smoking Status                413768 non-null  object \n",
                        " 5   Physical Activity Level       413768 non-null  object \n",
                        " 6   Employment Status             413768 non-null  object \n",
                        " 7   Income                        413768 non-null  float64\n",
                        " 8   Alcohol Consumption           413768 non-null  object \n",
                        " 9   Dietary Habits                413768 non-null  object \n",
                        " 10  Sleep Patterns                413768 non-null  object \n",
                        " 11  History of Mental Illness     413768 non-null  object \n",
                        " 12  History of Substance Abuse    413768 non-null  object \n",
                        " 13  Family History of Depression  413768 non-null  object \n",
                        " 14  Chronic Medical Conditions    413768 non-null  object \n",
                        " 15  Depressed                     413768 non-null  int64  \n",
                        "dtypes: float64(1), int64(3), object(12)\n",
                        "memory usage: 50.5+ MB\n"
                    ]
                }
            ],
            "source": [
                "df.info()"
            ]
        },
        {
            "cell_type": "code",
            "execution_count": null,
            "metadata": {},
            "outputs": [],
            "source": [
                "#Paso 5: Realiza un EDA completo"
            ]
        },
        {
            "cell_type": "code",
            "execution_count": 19,
            "metadata": {},
            "outputs": [
                {
                    "name": "stdout",
                    "output_type": "stream",
                    "text": [
                        "Columna Marital Status: 4 subniveles\n",
                        "Columna Education Level: 5 subniveles\n",
                        "Columna Smoking Status: 3 subniveles\n",
                        "Columna Physical Activity Level: 3 subniveles\n",
                        "Columna Employment Status: 2 subniveles\n",
                        "Columna Dietary Habits: 3 subniveles\n",
                        "Columna Sleep Patterns: 3 subniveles\n",
                        "Columna History of Mental Illness: 2 subniveles\n",
                        "Columna History of Substance Abuse: 2 subniveles\n",
                        "Columna Family History of Depression: 2 subniveles\n",
                        "Columna Chronic Medical Conditions: 2 subniveles\n"
                    ]
                }
            ],
            "source": [
                "#Revisar subniveles (opciones a elegir por columna) de las columnas \n",
                "columnas_categoricas=['Marital Status','Education Level','Smoking Status','Physical Activity Level','Employment Status','Dietary Habits','Sleep Patterns','History of Mental Illness','History of Substance Abuse','Family History of Depression','Chronic Medical Conditions']\n",
                "\n",
                "for col in columnas_categoricas:\n",
                "    print(f'Columna {col}: {df[col].nunique()} subniveles')"
            ]
        },
        {
            "cell_type": "code",
            "execution_count": 20,
            "metadata": {},
            "outputs": [
                {
                    "name": "stdout",
                    "output_type": "stream",
                    "text": [
                        "Columna Age: 63 subniveles\n",
                        "Columna Number of Children: 5 subniveles\n",
                        "Columna Income: 405282 subniveles\n",
                        "Columna Depressed: 2 subniveles\n"
                    ]
                }
            ],
            "source": [
                "columnas_numericas = df.select_dtypes(include=['int64', 'float64']).columns\n",
                "\n",
                "for col in columnas_numericas:\n",
                "        print(f'Columna {col}: {df[col].nunique()} subniveles')"
            ]
        },
        {
            "cell_type": "code",
            "execution_count": null,
            "metadata": {},
            "outputs": [
                {
                    "data": {
                        "text/plain": [
                            "(413768, 16)"
                        ]
                    },
                    "execution_count": 21,
                    "metadata": {},
                    "output_type": "execute_result"
                }
            ],
            "source": [
                "#Dimensiones DF\n",
                "df.shape"
            ]
        },
        {
            "cell_type": "code",
            "execution_count": 22,
            "metadata": {},
            "outputs": [],
            "source": [
                "df.drop_duplicates(inplace=True)"
            ]
        },
        {
            "cell_type": "code",
            "execution_count": 23,
            "metadata": {},
            "outputs": [
                {
                    "data": {
                        "text/plain": [
                            "(413768, 16)"
                        ]
                    },
                    "execution_count": 23,
                    "metadata": {},
                    "output_type": "execute_result"
                }
            ],
            "source": [
                "df.shape"
            ]
        },
        {
            "cell_type": "code",
            "execution_count": null,
            "metadata": {},
            "outputs": [],
            "source": []
        }
    ],
    "metadata": {
        "kernelspec": {
            "display_name": "Python 3",
            "language": "python",
            "name": "python3"
        },
        "language_info": {
            "codemirror_mode": {
                "name": "ipython",
                "version": 3
            },
            "file_extension": ".py",
            "mimetype": "text/x-python",
            "name": "python",
            "nbconvert_exporter": "python",
            "pygments_lexer": "ipython3",
            "version": "3.11.4"
        },
        "orig_nbformat": 4
    },
    "nbformat": 4,
    "nbformat_minor": 2
}
