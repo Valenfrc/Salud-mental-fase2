{
    "cells": [
        {
            "cell_type": "markdown",
            "metadata": {},
            "source": [
                "# Explore here"
            ]
        },
        {
            "cell_type": "code",
            "execution_count": null,
            "metadata": {},
            "outputs": [],
            "source": [
                "#Paso 1: Definición del problema\n",
                "#🎯 Problema de negocio\n",
                "#La depresión es uno de los trastornos mentales más prevalentes a nivel mundial. Se estima que millones de personas la padecen, y muchas de ellas no reciben el tratamiento adecuado debido a estigmas sociales, falta de diagnóstico o acceso limitado a servicios de salud mental. La detección temprana es esencial para intervenir oportunamente y prevenir consecuencias graves como el deterioro en la calidad de vida o incluso el suicidio.\n",
                "\n",
                "#El objetivo de este proyecto es desarrollar un sistema de predicción que, basándose en información sociodemográfica, historial médico y hábitos de vida de los individuos, sea capaz de detectar indicios de depresión. Esto permitiría generar herramientas de apoyo para psicólogos, profesionales de salud, instituciones educativas o incluso en ambientes laborales, facilitando intervenciones tempranas y preventivas.\n",
                "\n",
                "#🤖 Problema de Machine Learning\n",
                "#Se plantea un problema de clasificación binaria, donde a partir de variables como la edad, estado civil, nivel educativo, hábitos alimenticios, patrones de sueño, historial médico, entre otras, se busca predecir si una persona se encuentra en un estado depresivo (1) o no (0).\n",
                "\n"
            ]
        },
        {
            "cell_type": "code",
            "execution_count": null,
            "metadata": {},
            "outputs": [],
            "source": [
                "#Paso 2: Obtencion y carga del conjunto de datos"
            ]
        },
        {
            "cell_type": "code",
            "execution_count": 13,
            "metadata": {},
            "outputs": [
                {
                    "name": "stdout",
                    "output_type": "stream",
                    "text": [
                        "               Name  Age Marital Status    Education Level  \\\n",
                        "0  Christine Barker   31        Married  Bachelor's Degree   \n",
                        "1  Jacqueline Lewis   55        Married        High School   \n",
                        "2    Shannon Church   78        Widowed    Master's Degree   \n",
                        "3    Charles Jordan   58       Divorced    Master's Degree   \n",
                        "4      Michael Rich   18         Single        High School   \n",
                        "\n",
                        "   Number of Children Smoking Status Physical Activity Level  \\\n",
                        "0                   2     Non-smoker                  Active   \n",
                        "1                   1     Non-smoker               Sedentary   \n",
                        "2                   1     Non-smoker               Sedentary   \n",
                        "3                   3     Non-smoker                Moderate   \n",
                        "4                   0     Non-smoker               Sedentary   \n",
                        "\n",
                        "  Employment Status     Income Alcohol Consumption Dietary Habits  \\\n",
                        "0        Unemployed   26265.67            Moderate       Moderate   \n",
                        "1          Employed   42710.36                High      Unhealthy   \n",
                        "2          Employed  125332.79                 Low      Unhealthy   \n",
                        "3        Unemployed    9992.78            Moderate       Moderate   \n",
                        "4        Unemployed    8595.08                 Low       Moderate   \n",
                        "\n",
                        "  Sleep Patterns History of Mental Illness History of Substance Abuse  \\\n",
                        "0           Fair                       Yes                         No   \n",
                        "1           Fair                       Yes                         No   \n",
                        "2           Good                        No                         No   \n",
                        "3           Poor                        No                         No   \n",
                        "4           Fair                       Yes                         No   \n",
                        "\n",
                        "  Family History of Depression Chronic Medical Conditions  \n",
                        "0                          Yes                        Yes  \n",
                        "1                           No                        Yes  \n",
                        "2                          Yes                         No  \n",
                        "3                           No                         No  \n",
                        "4                          Yes                        Yes  \n"
                    ]
                }
            ],
            "source": [
                "import pandas as pd\n",
                "\n",
                "df = pd.read_csv('../data/raw/depression_data.csv')\n",
                "print(df.head())\n"
            ]
        },
        {
            "cell_type": "code",
            "execution_count": null,
            "metadata": {},
            "outputs": [],
            "source": [
                "#Nota sobre la variable objetivo:\n",
                "#Dado que el dataset original no incluía una columna explícita que indicara si una persona se encuentra en estado depresivo,\n",
                "# se generó una variable sintética Depressed basada en criterios clínicamente reconocidos como factores de riesgo de depresión,\n",
                "# tales como: historial de enfermedad mental, trastornos del sueño, abuso de sustancias, antecedentes familiares, entre otros.\n",
                "# Esta aproximación se utilizó exclusivamente para fines académicos, con el objetivo de demostrar el proceso completo de Machine\n",
                "# Learning aplicado a datos de salud mental.\n",
                "\n",
                "#Depressed = 1 → indica un caso considerado con alto riesgo de depresión.\n",
                "#Depressed = 0 → indica un caso considerado sin riesgo significativo de depresión."
            ]
        },
        {
            "cell_type": "code",
            "execution_count": null,
            "metadata": {},
            "outputs": [],
            "source": [
                "def calcular_depresion(row):\n",
                "    factores = 0\n",
                "    if row['History of Mental Illness'] == 'Yes':\n",
                "        factores += 1\n",
                "    if row['History of Substance Abuse'] == 'Yes':\n",
                "        factores += 1\n",
                "    if row['Family History of Depression'] == 'Yes':\n",
                "        factores += 1\n",
                "    if row['Sleep Patterns'] == 'Poor':\n",
                "        factores += 1\n",
                "    if row['Chronic Medical Conditions'] == 'Yes':\n",
                "        factores += 1\n",
                "    if row['Physical Activity Level'] == 'Sedentary':\n",
                "        factores += 1\n",
                "    if row['Alcohol Consumption'] == 'High':\n",
                "        factores += 1\n",
                "    return 1 if factores >= 2 else 0\n",
                "\n",
                "df['Depressed'] = df.apply(calcular_depresion, axis=1)\n"
            ]
        },
        {
            "cell_type": "code",
            "execution_count": null,
            "metadata": {},
            "outputs": [],
            "source": [
                "#Paso 3: Almacenar la información\n",
                "\n"
            ]
        },
        {
            "cell_type": "code",
            "execution_count": 23,
            "metadata": {},
            "outputs": [
                {
                    "name": "stdout",
                    "output_type": "stream",
                    "text": [
                        "Datos cargados correctamente en la base de datos 'mental_health.db'\n"
                    ]
                }
            ],
            "source": [
                "import sqlite3\n",
                "import pandas as pd\n",
                "\n",
                "#Conectar df a SQL\n",
                "conn = sqlite3.connect(\"depression_data.db\")\n",
                "\n",
                "# Almacenar los datos en la base de datos SQLite en una tabla llamada 'health_data'\n",
                "df.to_sql('health_data', conn, if_exists='replace', index=False)\n",
                "print(\"Datos cargados correctamente en la base de datos 'mental_health.db'\")\n"
            ]
        },
        {
            "cell_type": "code",
            "execution_count": 24,
            "metadata": {},
            "outputs": [
                {
                    "name": "stdout",
                    "output_type": "stream",
                    "text": [
                        "▶ Consulta 1: Primeras 5 filas\n",
                        "               Name  Age Marital Status    Education Level  \\\n",
                        "0  Christine Barker   31        Married  Bachelor's Degree   \n",
                        "1  Jacqueline Lewis   55        Married        High School   \n",
                        "2    Shannon Church   78        Widowed    Master's Degree   \n",
                        "3    Charles Jordan   58       Divorced    Master's Degree   \n",
                        "4      Michael Rich   18         Single        High School   \n",
                        "\n",
                        "   Number of Children Smoking Status Physical Activity Level  \\\n",
                        "0                   2     Non-smoker                  Active   \n",
                        "1                   1     Non-smoker               Sedentary   \n",
                        "2                   1     Non-smoker               Sedentary   \n",
                        "3                   3     Non-smoker                Moderate   \n",
                        "4                   0     Non-smoker               Sedentary   \n",
                        "\n",
                        "  Employment Status     Income Alcohol Consumption Dietary Habits  \\\n",
                        "0        Unemployed   26265.67            Moderate       Moderate   \n",
                        "1          Employed   42710.36                High      Unhealthy   \n",
                        "2          Employed  125332.79                 Low      Unhealthy   \n",
                        "3        Unemployed    9992.78            Moderate       Moderate   \n",
                        "4        Unemployed    8595.08                 Low       Moderate   \n",
                        "\n",
                        "  Sleep Patterns History of Mental Illness History of Substance Abuse  \\\n",
                        "0           Fair                       Yes                         No   \n",
                        "1           Fair                       Yes                         No   \n",
                        "2           Good                        No                         No   \n",
                        "3           Poor                        No                         No   \n",
                        "4           Fair                       Yes                         No   \n",
                        "\n",
                        "  Family History of Depression Chronic Medical Conditions  Depressed  \n",
                        "0                          Yes                        Yes          1  \n",
                        "1                           No                        Yes          1  \n",
                        "2                          Yes                         No          1  \n",
                        "3                           No                         No          0  \n",
                        "4                          Yes                        Yes          1   \n",
                        "\n"
                    ]
                }
            ],
            "source": [
                "# 1: Ver las primeras 5 filas\n",
                "query1 = \"SELECT * FROM health_data LIMIT 5\"\n",
                "print(\"▶ Consulta 1: Primeras 5 filas\")\n",
                "print(pd.read_sql(query1, conn), \"\\n\")\n",
                "\n"
            ]
        },
        {
            "cell_type": "code",
            "execution_count": null,
            "metadata": {},
            "outputs": [
                {
                    "name": "stdout",
                    "output_type": "stream",
                    "text": [
                        "▶ Consulta 2: Conteo deprimidos vs no\n",
                        "   Depressed   Total\n",
                        "0          0  128135\n",
                        "1          1  285633 \n",
                        "\n"
                    ]
                }
            ],
            "source": [
                "# 2: Contar personas deprimidas (1) vs no deprimidas (0)\n",
                "query2 = \"SELECT Depressed, COUNT(*) as Total FROM health_data GROUP BY Depressed\"\n",
                "print(\"▶ Consulta 2: Conteo deprimidos vs no\")\n",
                "print(pd.read_sql(query2, conn), \"\\n\")\n",
                "\n"
            ]
        },
        {
            "cell_type": "code",
            "execution_count": 26,
            "metadata": {},
            "outputs": [
                {
                    "name": "stdout",
                    "output_type": "stream",
                    "text": [
                        "▶ Consulta 3: Conteo por nivel de actividad física\n",
                        "  Physical Activity Level   Total\n",
                        "0                  Active   78905\n",
                        "1                Moderate  158013\n",
                        "2               Sedentary  176850 \n",
                        "\n"
                    ]
                }
            ],
            "source": [
                "# Consulta 3: Ver distribución por nivel de actividad física\n",
                "query3 = \"SELECT [Physical Activity Level], COUNT(*) as Total FROM health_data GROUP BY [Physical Activity Level]\"\n",
                "print(\"▶ Consulta 3: Conteo por nivel de actividad física\")\n",
                "print(pd.read_sql(query3, conn), \"\\n\")"
            ]
        },
        {
            "cell_type": "code",
            "execution_count": 27,
            "metadata": {},
            "outputs": [
                {
                    "name": "stdout",
                    "output_type": "stream",
                    "text": [
                        "▶ Consulta 4: Conteo por patrón de sueño\n",
                        "  Sleep Patterns   Total\n",
                        "0           Fair  196789\n",
                        "1           Good   87397\n",
                        "2           Poor  129582 \n",
                        "\n"
                    ]
                }
            ],
            "source": [
                "query4 = \"SELECT [Sleep Patterns], COUNT(*) as Total FROM health_data GROUP BY [Sleep Patterns]\"\n",
                "print(\"▶ Consulta 4: Conteo por patrón de sueño\")\n",
                "print(pd.read_sql(query4, conn), \"\\n\")"
            ]
        },
        {
            "cell_type": "code",
            "execution_count": 28,
            "metadata": {},
            "outputs": [
                {
                    "name": "stdout",
                    "output_type": "stream",
                    "text": [
                        "▶ Consulta 5: Porcentaje de deprimidos por consumo de alcohol\n",
                        "  Alcohol Consumption  Porcentaje_Deprimidos\n",
                        "0                High                   0.94\n",
                        "1                 Low                   0.61\n",
                        "2            Moderate                   0.61 \n",
                        "\n"
                    ]
                }
            ],
            "source": [
                "# Consulta 5: Porcentaje promedio de depresión por consumo de alcohol\n",
                "query5 = \"\"\"\n",
                "    SELECT [Alcohol Consumption], ROUND(AVG(Depressed), 2) as Porcentaje_Deprimidos\n",
                "    FROM health_data\n",
                "    GROUP BY [Alcohol Consumption]\n",
                "\"\"\"\n",
                "print(\"▶ Consulta 5: Porcentaje de deprimidos por consumo de alcohol\")\n",
                "print(pd.read_sql(query5, conn), \"\\n\")\n",
                "\n",
                "# Cerrar conexión\n",
                "conn.close()"
            ]
        }
    ],
    "metadata": {
        "kernelspec": {
            "display_name": "Python 3",
            "language": "python",
            "name": "python3"
        },
        "language_info": {
            "codemirror_mode": {
                "name": "ipython",
                "version": 3
            },
            "file_extension": ".py",
            "mimetype": "text/x-python",
            "name": "python",
            "nbconvert_exporter": "python",
            "pygments_lexer": "ipython3",
            "version": "3.11.4"
        },
        "orig_nbformat": 4
    },
    "nbformat": 4,
    "nbformat_minor": 2
}
